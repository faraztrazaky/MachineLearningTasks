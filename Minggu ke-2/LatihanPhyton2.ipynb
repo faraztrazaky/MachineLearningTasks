{
  "nbformat": 4,
  "nbformat_minor": 0,
  "metadata": {
    "colab": {
      "provenance": [],
      "authorship_tag": "ABX9TyOMCbkCh+Mphhph5wX7ZDNW",
      "include_colab_link": true
    },
    "kernelspec": {
      "name": "python3",
      "display_name": "Python 3"
    },
    "language_info": {
      "name": "python"
    }
  },
  "cells": [
    {
      "cell_type": "markdown",
      "metadata": {
        "id": "view-in-github",
        "colab_type": "text"
      },
      "source": [
        "<a href=\"https://colab.research.google.com/github/faraztrazaky/MachineLearningTasks/blob/main/Minggu%20ke-2/LatihanPhyton2.ipynb\" target=\"_parent\"><img src=\"https://colab.research.google.com/assets/colab-badge.svg\" alt=\"Open In Colab\"/></a>"
      ]
    },
    {
      "cell_type": "code",
      "source": [
        "# Inisialisasi array 3 dimensi: 3 gedung, 15 lantai, 20 kamar per lantai\n",
        "rooms = [[[False for _ in range(20)] for _ in range(15)] for _ in range(3)]\n",
        "\n",
        "# 1. Pesan satu kamar pada gedung 2, lantai 10, kamar 14\n",
        "rooms[1][9][13] = True  # Indeks dimulai dari 0, jadi lantai 10 = index 9, kamar 14 = index 13\n",
        "\n",
        "# 2. Kosongkan satu kamar pada gedung 1, lantai 5, kamar 2\n",
        "rooms[0][4][1] = False  # Lantai 5 = index 4, kamar 2 = index 1\n",
        "\n",
        "# 3. Periksa apakah ada kamar kosong di lantai 15 gedung 3\n",
        "vacancy = 0\n",
        "for roomNumber in range(20):\n",
        "    if not rooms[2][14][roomNumber]:  # Lantai 15 = index 14\n",
        "        vacancy += 1\n",
        "\n",
        "print(f\"Jumlah kamar kosong di gedung 3, lantai 15: {vacancy}\")"
      ],
      "metadata": {
        "colab": {
          "base_uri": "https://localhost:8080/"
        },
        "id": "7PnoKJ5oxCkQ",
        "outputId": "23ab2031-169f-431c-89b0-40e74a2ea9ad"
      },
      "execution_count": 2,
      "outputs": [
        {
          "output_type": "stream",
          "name": "stdout",
          "text": [
            "Jumlah kamar kosong di gedung 3, lantai 15: 20\n"
          ]
        }
      ]
    }
  ]
}