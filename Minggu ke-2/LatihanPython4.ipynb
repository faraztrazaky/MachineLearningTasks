{
  "nbformat": 4,
  "nbformat_minor": 0,
  "metadata": {
    "colab": {
      "provenance": [],
      "authorship_tag": "ABX9TyOLJJH0MLx6eP4HzTVpYh15",
      "include_colab_link": true
    },
    "kernelspec": {
      "name": "python3",
      "display_name": "Python 3"
    },
    "language_info": {
      "name": "python"
    }
  },
  "cells": [
    {
      "cell_type": "markdown",
      "metadata": {
        "id": "view-in-github",
        "colab_type": "text"
      },
      "source": [
        "<a href=\"https://colab.research.google.com/github/faraztrazaky/MachineLearningTasks/blob/main/Minggu%20ke-2/LatihanPython4.ipynb\" target=\"_parent\"><img src=\"https://colab.research.google.com/assets/colab-badge.svg\" alt=\"Open In Colab\"/></a>"
      ]
    },
    {
      "cell_type": "code",
      "execution_count": 12,
      "metadata": {
        "colab": {
          "base_uri": "https://localhost:8080/"
        },
        "id": "wI_B-FjRjaXt",
        "outputId": "770f580c-069a-4a76-fa53-b3244aebffcd"
      },
      "outputs": [
        {
          "output_type": "stream",
          "name": "stdout",
          "text": [
            "Struktur folder dan file telah dibuat dengan benar.\n"
          ]
        }
      ],
      "source": [
        "import os\n",
        "\n",
        "# Buat folder utama LATIHAN_PYTHON\n",
        "os.makedirs(\"LATIHAN_PYTHON\", exist_ok=True)\n",
        "\n",
        "# Buat folder latihan_package di dalam LATIHAN_PYTHON\n",
        "os.makedirs(\"LATIHAN_PYTHON/latihan_package\", exist_ok=True)\n",
        "\n",
        "# Buat file di dalam LATIHAN_PYTHON\n",
        "files = [\n",
        "    \"LATIHAN_PYTHON/main.py\",\n",
        "    \"LATIHAN_PYTHON/_init_.py\",\n",
        "    \"LATIHAN_PYTHON/latihan_package/alpha.py\",\n",
        "    \"LATIHAN_PYTHON/latihan_package/beta.py\"\n",
        "]\n",
        "\n",
        "# Buat file kosong\n",
        "for file in files:\n",
        "    with open(file, \"w\") as f:\n",
        "        pass\n",
        "\n",
        "print(\"Struktur folder dan file telah dibuat dengan benar.\")\n"
      ]
    },
    {
      "cell_type": "code",
      "source": [
        "%run LATIHAN_PYTHON/main.py"
      ],
      "metadata": {
        "colab": {
          "base_uri": "https://localhost:8080/"
        },
        "id": "a-yEfXxyk0IV",
        "outputId": "365af467-434f-4339-9267-41cc67f2ff9e"
      },
      "execution_count": 13,
      "outputs": [
        {
          "output_type": "stream",
          "name": "stdout",
          "text": [
            "alpha Satu\n",
            "beta Satu\n"
          ]
        }
      ]
    }
  ]
}