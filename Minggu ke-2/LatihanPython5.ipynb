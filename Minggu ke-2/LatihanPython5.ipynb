{
  "nbformat": 4,
  "nbformat_minor": 0,
  "metadata": {
    "colab": {
      "provenance": [],
      "authorship_tag": "ABX9TyPb5JYT+R1u7Z+r/EHXEBfN",
      "include_colab_link": true
    },
    "kernelspec": {
      "name": "python3",
      "display_name": "Python 3"
    },
    "language_info": {
      "name": "python"
    }
  },
  "cells": [
    {
      "cell_type": "markdown",
      "metadata": {
        "id": "view-in-github",
        "colab_type": "text"
      },
      "source": [
        "<a href=\"https://colab.research.google.com/github/faraztrazaky/MachineLearningTasks/blob/main/Minggu%20ke-2/LatihanPython5.ipynb\" target=\"_parent\"><img src=\"https://colab.research.google.com/assets/colab-badge.svg\" alt=\"Open In Colab\"/></a>"
      ]
    },
    {
      "cell_type": "code",
      "execution_count": 3,
      "metadata": {
        "colab": {
          "base_uri": "https://localhost:8080/"
        },
        "id": "I8Xr8s8QpKW3",
        "outputId": "bfc5f6c2-d1fd-41bb-8f49-fa5be3b02958"
      },
      "outputs": [
        {
          "output_type": "stream",
          "name": "stdout",
          "text": [
            "\n",
            "Menu:\n",
            "1. Book Ticket\n",
            "2. Cancel Ticket\n",
            "3. Show Passengers\n",
            "4. Exit\n",
            "Choose an option: 1\n",
            "Enter passenger name: Zaky\n",
            "Ticket booked! Ticket Number: GA123-9948, Passenger: Zaky\n",
            "\n",
            "Menu:\n",
            "1. Book Ticket\n",
            "2. Cancel Ticket\n",
            "3. Show Passengers\n",
            "4. Exit\n",
            "Choose an option: 3\n",
            "Passengers List:\n",
            "Zaky (Ticket: GA123-9948)\n",
            "\n",
            "Menu:\n",
            "1. Book Ticket\n",
            "2. Cancel Ticket\n",
            "3. Show Passengers\n",
            "4. Exit\n",
            "Choose an option: 1\n",
            "Enter passenger name: Pak Abu Salam\n",
            "Ticket booked! Ticket Number: GA123-5220, Passenger: Pak Abu Salam\n",
            "\n",
            "Menu:\n",
            "1. Book Ticket\n",
            "2. Cancel Ticket\n",
            "3. Show Passengers\n",
            "4. Exit\n",
            "Choose an option: 3\n",
            "Passengers List:\n",
            "Zaky (Ticket: GA123-9948)\n",
            "Pak Abu Salam (Ticket: GA123-5220)\n",
            "\n",
            "Menu:\n",
            "1. Book Ticket\n",
            "2. Cancel Ticket\n",
            "3. Show Passengers\n",
            "4. Exit\n",
            "Choose an option: 4\n",
            "Exiting...\n"
          ]
        }
      ],
      "source": [
        "import random\n",
        "\n",
        "class Flight:\n",
        "    def __init__(self, flight_number, destination, seats_available):\n",
        "        self.flight_number = flight_number\n",
        "        self.destination = destination\n",
        "        self.seats_available = seats_available\n",
        "        self.passengers = []\n",
        "\n",
        "    def book_ticket(self, passenger_name):\n",
        "        if self.seats_available > 0:\n",
        "            ticket_number = f\"{self.flight_number}-{random.randint(1000, 9999)}\"\n",
        "            self.passengers.append((ticket_number, passenger_name))\n",
        "            self.seats_available -= 1\n",
        "            return f\"Ticket booked! Ticket Number: {ticket_number}, Passenger: {passenger_name}\"\n",
        "        else:\n",
        "            return \"Sorry, no seats available!\"\n",
        "\n",
        "    def cancel_ticket(self, ticket_number):\n",
        "        for ticket in self.passengers:\n",
        "            if ticket[0] == ticket_number:\n",
        "                self.passengers.remove(ticket)\n",
        "                self.seats_available += 1\n",
        "                return f\"Ticket {ticket_number} canceled successfully.\"\n",
        "        return \"Ticket not found!\"\n",
        "\n",
        "    def show_passengers(self):\n",
        "        if not self.passengers:\n",
        "            return \"No passengers booked yet.\"\n",
        "        return \"Passengers List:\\n\" + \"\\n\".join([f\"{t[1]} (Ticket: {t[0]})\" for t in self.passengers])\n",
        "\n",
        "# Contoh penggunaan dengan input dari user\n",
        "flight = Flight(\"GA123\", \"Bali\", 3)\n",
        "\n",
        "while True:\n",
        "    print(\"\\nMenu:\")\n",
        "    print(\"1. Book Ticket\")\n",
        "    print(\"2. Cancel Ticket\")\n",
        "    print(\"3. Show Passengers\")\n",
        "    print(\"4. Exit\")\n",
        "    choice = input(\"Choose an option: \")\n",
        "\n",
        "    if choice == \"1\":\n",
        "        name = input(\"Enter passenger name: \")\n",
        "        print(flight.book_ticket(name))\n",
        "    elif choice == \"2\":\n",
        "        ticket_num = input(\"Enter ticket number to cancel: \")\n",
        "        print(flight.cancel_ticket(ticket_num))\n",
        "    elif choice == \"3\":\n",
        "        print(flight.show_passengers())\n",
        "    elif choice == \"4\":\n",
        "        print(\"Exiting...\")\n",
        "        break\n",
        "    else:\n",
        "        print(\"Invalid choice, please try again.\")"
      ]
    }
  ]
}